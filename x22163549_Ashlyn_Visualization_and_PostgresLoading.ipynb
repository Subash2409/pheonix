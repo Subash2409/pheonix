{
 "cells": [
  {
   "cell_type": "markdown",
   "id": "b612a40f",
   "metadata": {},
   "source": [
    "### Run the Data Extraction and Pre-processing File"
   ]
  },
  {
   "cell_type": "code",
   "execution_count": null,
   "id": "b78939c7",
   "metadata": {},
   "outputs": [],
   "source": [
    "%run ./x22163549_Ashlyn_fda_extraction_and_preprocessing.ipynb"
   ]
  },
  {
   "cell_type": "markdown",
   "id": "4304a4f6",
   "metadata": {},
   "source": [
    "### Visualization"
   ]
  },
  {
   "cell_type": "markdown",
   "id": "286ca857",
   "metadata": {},
   "source": [
    "#### 1) What are the most common reasons for recalls which provides insights into the types of issues that occur generally?"
   ]
  },
  {
   "cell_type": "code",
   "execution_count": null,
   "id": "87ab8e70",
   "metadata": {},
   "outputs": [],
   "source": [
    "text_col = 'reason_for_recall'\n",
    "\n",
    "# Concatenate all the text from the selected column\n",
    "text = ' '.join(fda_df_extracted[text_col].dropna().tolist())\n",
    "\n",
    "# Generate word cloud\n",
    "wordcloud = WordCloud(width=800, height=400, background_color='white').generate(text)\n",
    "\n",
    "# Create a plot\n",
    "fig, ax = plt.subplots(figsize=(10, 5))\n",
    "ax.imshow(wordcloud, interpolation='bilinear')\n",
    "ax.set_title('Word Cloud of ' + text_col.capitalize())\n",
    "ax.axis('off')\n",
    "\n",
    "# Display the plot\n",
    "plt.show()"
   ]
  },
  {
   "cell_type": "markdown",
   "id": "4fc8a064",
   "metadata": {},
   "source": [
    "#### 2) What are the top 10 recalling firms with the highest number of recalls?"
   ]
  },
  {
   "cell_type": "code",
   "execution_count": null,
   "id": "336b027e",
   "metadata": {},
   "outputs": [],
   "source": [
    "# Get the top 10 recalling firms\n",
    "top_10_recalling_firms = fda_df_extracted['recalling_firm'].value_counts().head(10)\n",
    "\n",
    "# Create a bar chart\n",
    "sns.barplot(x=top_10_recalling_firms.values, y=top_10_recalling_firms.index, palette='viridis')\n",
    "plt.title('Top 10 Recalling Firms')\n",
    "plt.xlabel('Recall Count')\n",
    "plt.ylabel('Recalling Firm')\n",
    "plt.show()"
   ]
  },
  {
   "cell_type": "markdown",
   "id": "c203619a",
   "metadata": {},
   "source": [
    "#### 3) What is the distribution of recalling firms across different initial firm notification categories? Which notification category has the highest number of firms, and which one has the lowest number of firms?"
   ]
  },
  {
   "cell_type": "code",
   "execution_count": null,
   "id": "8f015461",
   "metadata": {},
   "outputs": [],
   "source": [
    "# Group by initial firm notification and count the number of unique firms in each category\n",
    "firms_per_notification = fda_df_extracted.groupby('initial_firm_notification')['recalling_firm'].nunique()\n",
    "\n",
    "# Sort by number of firms in descending order\n",
    "firms_per_notification = firms_per_notification.sort_values(ascending=False)\n",
    "\n",
    "# Create a bar chart\n",
    "plt.figure(figsize=(12, 6))\n",
    "sns.barplot(x=firms_per_notification.index, y=firms_per_notification.values)\n",
    "plt.xlabel('Initial Firm Notification')\n",
    "plt.ylabel('Number of Unique Recalling Firms')\n",
    "plt.title('Number of Firms per Initial Firm Notification Category (Ordered by Descending Count)')\n",
    "plt.xticks(rotation=90)\n",
    "plt.show()"
   ]
  },
  {
   "cell_type": "markdown",
   "id": "4dad5118",
   "metadata": {},
   "source": [
    "#### 4) What are the trends or patterns of recalls over time i.e. How has the number of recalls changed over time? Are there any noticeable spikes or dips in recall activities?"
   ]
  },
  {
   "cell_type": "code",
   "execution_count": null,
   "id": "476f2e3a",
   "metadata": {},
   "outputs": [],
   "source": [
    "# Group the data by date and count the number of recalls in each date\n",
    "recall_initiation_date_counts = fda_df_extracted['recall_initiation_date'].value_counts().sort_index()\n",
    "\n",
    "# Create a time series plot for Recall Initiation Date\n",
    "fig, ax = plt.subplots(figsize=(10, 5))\n",
    "ax.plot(recall_initiation_date_counts.index, recall_initiation_date_counts.values, color=\"#660066\")\n",
    "ax.set_title('Recalls by Recall Initiation Date')\n",
    "ax.set_xlabel('Recall Initiation Date')\n",
    "ax.set_ylabel('Number of Recalls')\n",
    "\n",
    "# Display the plots\n",
    "plt.show()"
   ]
  },
  {
   "cell_type": "markdown",
   "id": "5e0038ac",
   "metadata": {},
   "source": [
    "#### 5) What is the distribution of product recalls by month in the past year? Months that experienced higher recall activity compared to others."
   ]
  },
  {
   "cell_type": "code",
   "execution_count": null,
   "id": "cd72db55",
   "metadata": {},
   "outputs": [],
   "source": [
    "# Calculate the past year date range\n",
    "current_year = pd.Timestamp.now().year\n",
    "past_year_start = pd.Timestamp(year=current_year-1, month=1, day=1)\n",
    "past_year_end = pd.Timestamp(year=current_year-1, month=12, day=31)\n",
    "\n",
    "# Filter the data for the past year\n",
    "filtered_data = fda_df_extracted[\n",
    "    (fda_df_extracted['recall_initiation_date'] >= past_year_start) &\n",
    "    (fda_df_extracted['recall_initiation_date'] <= past_year_end)\n",
    "]\n",
    "\n",
    "# Group the filtered data by month and count the occurrences\n",
    "monthly_recalls = filtered_data['recall_initiation_date'].dt.month.value_counts().sort_index()\n",
    "\n",
    "# Create a 2D array for the heat map data\n",
    "heat_map_data = np.zeros((12,))\n",
    "for month, count in monthly_recalls.items():\n",
    "    heat_map_data[month-1] = count\n",
    "\n",
    "# Create the heat map\n",
    "plt.figure(figsize=(10, 6))  # Set the figure size\n",
    "plt.imshow([heat_map_data], cmap='magma', aspect='auto', interpolation='nearest')  # Plot the heat map\n",
    "plt.colorbar(label='Recall Count')  # Add a colorbar with label\n",
    "plt.title('Product Recalls by Month (Past Year)')  # Set the title of the chart\n",
    "plt.xlabel('Month')  # Set the x-axis label\n",
    "plt.xticks(np.arange(12), ['Jan', 'Feb', 'Mar', 'Apr', 'May', 'Jun', 'Jul', 'Aug', 'Sep', 'Oct', 'Nov', 'Dec'])  # Set x-axis tick labels\n",
    "plt.ylabel('Recall Count')  # Set the y-axis label\n",
    "plt.show()  # Show the plot"
   ]
  },
  {
   "cell_type": "markdown",
   "id": "3ded29b2",
   "metadata": {},
   "source": [
    "#### 6) What are the top 50 event IDs with the most recalls?"
   ]
  },
  {
   "cell_type": "code",
   "execution_count": null,
   "id": "62f4e2c0",
   "metadata": {},
   "outputs": [],
   "source": [
    "# Group by event ID and count the unique recall numbers\n",
    "event_recall_counts = fda_df_extracted.groupby('event_id')['recall_number_digits'].nunique().reset_index()\n",
    "\n",
    "# Sort by recall counts in descending order and select the top 50 event IDs\n",
    "top_50_event_ids = event_recall_counts.sort_values('recall_number_digits', ascending=False).head(50)\n",
    "\n",
    "# Create a count plot\n",
    "plt.figure(figsize=(12, 6))\n",
    "sns.barplot(x='event_id', y='recall_number_digits', data=top_50_event_ids)\n",
    "plt.xlabel('Event ID')\n",
    "plt.ylabel('Number of Unique Recall Numbers')\n",
    "plt.title('Top 50 Event IDs with Highest Number of Unique Recall Numbers')\n",
    "plt.xticks(rotation=90)\n",
    "plt.show()"
   ]
  },
  {
   "cell_type": "markdown",
   "id": "da5f9ee4",
   "metadata": {},
   "source": [
    "#### 7) Which classification category (risk level indicator), has the highest or lowest percentage of recalls?"
   ]
  },
  {
   "cell_type": "code",
   "execution_count": null,
   "id": "f6c2c64d",
   "metadata": {},
   "outputs": [],
   "source": [
    "# Count recalls by classification\n",
    "df_counts = fda_df_extracted['classification'].value_counts()\n",
    "\n",
    "custom_colors = [\"#990033\", \"#009999\", \"#ff6600\", \"#33cc33\", \"#333399\"]\n",
    "\n",
    "# Pie chart\n",
    "plt.figure(figsize=(8, 8)) # Set figure size\n",
    "plt.pie(df_counts.values, labels=df_counts.index, autopct='%1.1f%%', startangle=90, colors=custom_colors) # Create pie chart\n",
    "plt.title('Recalls Distribution by Classification') # Set plot title\n",
    "plt.show() # Show plot"
   ]
  },
  {
   "cell_type": "markdown",
   "id": "0ee9abcf",
   "metadata": {},
   "source": [
    "### Table Creation and Data Loading into PostgreSQL"
   ]
  },
  {
   "cell_type": "code",
   "execution_count": null,
   "id": "60dc1d5a",
   "metadata": {},
   "outputs": [],
   "source": [
    "def create_fda_table(conn, table_name):\n",
    "    try:\n",
    "        cur = conn.cursor()\n",
    "        cur.execute(f'''\n",
    "            CREATE TABLE IF NOT EXISTS {table_name} (\n",
    "                country VARCHAR(255),\n",
    "                city VARCHAR(255),\n",
    "                address_1 VARCHAR(255),\n",
    "                reason_for_recall VARCHAR(255),\n",
    "                product_quantity VARCHAR(255),\n",
    "                code_info VARCHAR(255),\n",
    "                center_classification_date DATE,\n",
    "                distribution_pattern VARCHAR(255),\n",
    "                state VARCHAR(255),\n",
    "                product_description VARCHAR(255),\n",
    "                report_date DATE,\n",
    "                classification VARCHAR(255),\n",
    "                recalling_firm VARCHAR(255),\n",
    "                recall_number VARCHAR(255),\n",
    "                initial_firm_notification VARCHAR(255),\n",
    "                product_type VARCHAR(255),\n",
    "                event_id VARCHAR(255),\n",
    "                recall_initiation_date DATE,\n",
    "                postal_code VARCHAR(255),\n",
    "                voluntary_mandated VARCHAR(255),\n",
    "                status VARCHAR(255),\n",
    "                termination_date DATE,\n",
    "                recall_number_digits INT\n",
    "            )\n",
    "        ''')\n",
    "        conn.commit()\n",
    "        print(\"Table created successfully!\")\n",
    "    except psycopg2.Error as e:\n",
    "        print(\"Error creating table:\", e)\n",
    "        conn.rollback()\n",
    "    finally:\n",
    "        cur.close()\n",
    "        \n",
    "table_name = postgresFdatablename\n",
    "create_fda_table(conn, table_name)"
   ]
  },
  {
   "cell_type": "code",
   "execution_count": null,
   "id": "24ac0cd7",
   "metadata": {},
   "outputs": [],
   "source": [
    "def load_data_to_postgresql(conn, df, table_name):\n",
    "    try:\n",
    "        engine = establish_postgres_connection(postgresUsername, postgresPassword, postgresHost, postgresPort, postgresDbname)\n",
    "        df.to_sql(table_name, engine, if_exists='replace', index=False)\n",
    "        engine.dispose()\n",
    "        print(\"Data loaded to PostgreSQL successfully!\")\n",
    "    except sqlalchemy.Error as e:\n",
    "        print(\"Error loading data to PostgreSQL:\", e)\n",
    "\n",
    "load_data_to_postgresql(conn, fda_df_extracted, table_name)"
   ]
  },
  {
   "cell_type": "code",
   "execution_count": null,
   "id": "965710e3",
   "metadata": {},
   "outputs": [],
   "source": [
    "cur.close()\n",
    "conn.close()"
   ]
  }
 ],
 "metadata": {
  "kernelspec": {
   "display_name": "Python 3 (ipykernel)",
   "language": "python",
   "name": "python3"
  },
  "language_info": {
   "codemirror_mode": {
    "name": "ipython",
    "version": 3
   },
   "file_extension": ".py",
   "mimetype": "text/x-python",
   "name": "python",
   "nbconvert_exporter": "python",
   "pygments_lexer": "ipython3",
   "version": "3.9.13"
  }
 },
 "nbformat": 4,
 "nbformat_minor": 5
}
